{
  "nbformat": 4,
  "nbformat_minor": 0,
  "metadata": {
    "colab": {
      "provenance": []
    },
    "kernelspec": {
      "name": "python3",
      "display_name": "Python 3"
    },
    "language_info": {
      "name": "python"
    }
  },
  "cells": [
    {
      "cell_type": "markdown",
      "source": [
        "대학원신입생세미나 파이썬 과제\n",
        "통계학과 석사과정 2024-29048 권헌정"
      ],
      "metadata": {
        "id": "qVOggkLiPxV0"
      }
    },
    {
      "cell_type": "code",
      "execution_count": null,
      "metadata": {
        "id": "rAJ2KgjkMAXk",
        "colab": {
          "base_uri": "https://localhost:8080/"
        },
        "outputId": "c64d9189-f7ac-44cf-d197-64a1719f37fc"
      },
      "outputs": [
        {
          "output_type": "stream",
          "name": "stdout",
          "text": [
            "4 6\n",
            "3 2 1 1 1 4\n",
            "7\n"
          ]
        }
      ],
      "source": [
        "H,W=[*map(int,input().split())]\n",
        "  # 블럭이 존재할 높이(H)와 너비(W)를 설정해준다\n",
        "\n",
        "blocks=[*map(int,input().split())]\n",
        "  # 블럭의 높이를 순서대로 정해준다\n",
        "\n",
        "result = 0 # 빗물의 고인 양을 받아줄 값(밑의 반복문에서 빗물이 고이지 않으면 0을 반환)\n",
        "\n",
        "for i in range(1, W-1): # 맨 왼쪽과 맨 오른쪽은 고일 수 없음을 기억.\n",
        "    left_max = max(blocks[:i]) # i번째 블럭을 기준으로 왼쪽에서 제일 높은 블럭의 높이\n",
        "    right_max = max(blocks[i+1:]) # i번째 블럭을 기준으로 오른쪽에서 제일 높은 블럭의 높이\n",
        "\n",
        "    min_max_block = min(left_max, right_max) # 그중 가장 낮은 블록\n",
        "\n",
        "    if blocks[i] < min_max_block: # 현재 블록이 lower_one 블록 보다는 낮아야 빗물이 고인다.\n",
        "        result += min_max_block - blocks[i]\n",
        "    # 이런식으로 한 블럭씩 이동하면서 열 기준으로 빗물의 고인 양을 차근차근 받아준다.\n",
        "\n",
        "print(result)"
      ]
    },
    {
      "cell_type": "code",
      "source": [
        "H,W=[*map(int,input().split())]\n",
        "blocks=[*map(int,input().split())]\n",
        "result = 0\n",
        "for i in range(1, W-1):\n",
        "    left_max = max(blocks[:i])\n",
        "    right_max = max(blocks[i+1:])\n",
        "    min_max_block = min(left_max, right_max)\n",
        "    if blocks[i] < min_max_block:\n",
        "        result += min_max_block - blocks[i]\n",
        "print(result)"
      ],
      "metadata": {
        "colab": {
          "base_uri": "https://localhost:8080/"
        },
        "id": "zE8VEMvPOhJ9",
        "outputId": "c8677d2e-8c4f-4442-e0e9-93da4c7aeeeb"
      },
      "execution_count": null,
      "outputs": [
        {
          "output_type": "stream",
          "name": "stdout",
          "text": [
            "6 3\n",
            "6 0 5\n",
            "5\n"
          ]
        }
      ]
    },
    {
      "cell_type": "code",
      "source": [
        "H,W=[*map(int,input().split())]\n",
        "blocks=[*map(int,input().split())]\n",
        "result = 0\n",
        "for i in range(1, W-1):\n",
        "    left_max = max(blocks[:i])\n",
        "    right_max = max(blocks[i+1:])\n",
        "    min_max_block = min(left_max, right_max)\n",
        "    if blocks[i] < min_max_block:\n",
        "        result += min_max_block - blocks[i]\n",
        "print(result)"
      ],
      "metadata": {
        "colab": {
          "base_uri": "https://localhost:8080/"
        },
        "id": "NwbzHdfXOhHW",
        "outputId": "9db86649-1f15-43f4-ed38-b69ffe49a8b0"
      },
      "execution_count": null,
      "outputs": [
        {
          "output_type": "stream",
          "name": "stdout",
          "text": [
            "7 7 \n",
            "2 6 1 5 7 5 3\n",
            "6\n"
          ]
        }
      ]
    },
    {
      "cell_type": "markdown",
      "source": [],
      "metadata": {
        "id": "emj2zmt5OhFC"
      }
    }
  ]
}